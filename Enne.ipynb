{
 "cells": [
  {
   "cell_type": "code",
   "execution_count": 1,
   "metadata": {},
   "outputs": [],
   "source": [
    "# Dependencies\n",
    "import numpy as np\n",
    "import json\n",
    "import pandas as pd\n",
    "import matplotlib.pyplot as plt\n",
    "import requests\n",
    "from config import crimekey\n",
    "from config import censuskey\n",
    "from pprint import pprint\n",
    "from census import Census\n",
    "\n",
    "# API Setup\n",
    "baseurl = \"http://api.usa.gov/crime/fbi/sapi/\"\n",
    "c = Census(censuskey, year=2019)"
   ]
  },
  {
   "cell_type": "code",
   "execution_count": null,
   "metadata": {},
   "outputs": [],
   "source": [
    "URL = (\"https://api.usa.gov/crime/fbi/sapi/api/summarized/state/AL/violent-crime/2019/2019?API_KEY=\" + crimekey)\n",
    "\n",
    "getdatasets = requests.get(URL)\n",
    "datasets_json = getdatasets.json()\n",
    "pprint(datasets_json)"
   ]
  },
  {
   "cell_type": "code",
   "execution_count": null,
   "metadata": {},
   "outputs": [],
   "source": [
    "stateAbbs = ['AL', 'AK', 'AR', 'AZ', 'CA', 'CO', 'CT', 'DE', 'DC', 'FL', 'GA', 'HI', 'ID', 'IL', 'IN', 'IA', 'KS',\n",
    "            'KY', 'LA', 'MA', 'ME', 'MD', 'MI', 'MN', 'MO', 'MS', 'MT', 'NC', 'ND', 'NE', 'NH', 'NJ', 'NM', 'NV', \n",
    "            'NY', 'OH', 'OK', 'OR', 'PA', 'RI', 'SC', 'SD', 'TN', 'TX', 'UT', 'VA', 'VT', 'WA', 'WI', 'WV', 'WY']\n",
    "statedict = {}\n",
    "record = 1\n",
    "\n",
    "# loop through all states and pull data for each\n",
    "for item in stateAbbs:\n",
    "    query_url = \"https://api.usa.gov/crime/fbi/sapi/api/summarized/state/\" + item + \"/violent-crime/2019/2019?API_KEY=\" + crimekey\n",
    "    # Get response into JSON\n",
    "    stateresponse = requests.get(query_url)\n",
    "    statejson = stateresponse.json()\n",
    "#     x = len(statejson['results'])\n",
    "    # Log each state and account for exceptions\n",
    "    try:\n",
    "        # Collect crime data and put it into a dictionary\n",
    "        statedict[item] = [len(statejson['results'])\n",
    "                     ]\n",
    "        print(f\"Processing record {record} | {item}\")\n",
    "        record += 1\n",
    "    # Exception if state data isn't found\n",
    "    except:\n",
    "        print(f\"Data not found for {item}. Skipping...\")\n",
    "\n",
    "print(\"----------Job complete!----------\")"
   ]
  },
  {
   "cell_type": "code",
   "execution_count": null,
   "metadata": {},
   "outputs": [],
   "source": [
    "statedict"
   ]
  },
  {
   "cell_type": "code",
   "execution_count": null,
   "metadata": {},
   "outputs": [],
   "source": [
    "# Find crime rate for each state\n",
    "stateAbbs = ['AL', 'AK', 'DE', 'DC', 'FL', 'GA', 'HI']\n",
    "statedict = {}\n",
    "record = 1\n",
    "\n",
    "# loop through all states and pull data for each\n",
    "for item in stateAbbs:\n",
    "    query_url = \"https://api.usa.gov/crime/fbi/sapi/api/summarized/state/\" + item + \"/violent-crime/2019/2019?API_KEY=\" + crimekey\n",
    "    # Get response into JSON\n",
    "    stateresponse = requests.get(query_url)\n",
    "    statejson = stateresponse.json()\n",
    "    x = len(statejson['results'])\n",
    "    # Log each state and account for exceptions\n",
    "    try:\n",
    "        # Collect crime data and put it into a dictionary\n",
    "        actuals = 0\n",
    "        for i in range(x):\n",
    "            actuals = actuals + statejson['results'][i]['actual']\n",
    "            statedict[item] = [actuals]\n",
    "        print(f\"Processing record {record} | {item}\")\n",
    "        record += 1\n",
    "        \n",
    "#         if item == \"HI\":\n",
    "#             statedict[item] = [statejson['results'][0]['actual'],\n",
    "#                       statejson['results'][1]['actual'],\n",
    "#                       statejson['results'][2]['actual'],\n",
    "#                       statejson['results'][3]['actual']\n",
    "#                      ]\n",
    "#             print(f\"Processing record {record} | {item}\")\n",
    "#             record += 1\n",
    "#         if item == \"DC\":\n",
    "#             statedict[item] = [statejson['results'][0]['actual'],\n",
    "#                       statejson['results'][1]['actual'],\n",
    "#                       statejson['results'][2]['actual']\n",
    "#                      ]\n",
    "#             print(f\"Processing record {record} | {item}\")\n",
    "#             record += 1\n",
    "#         else:\n",
    "#             actuals = 0\n",
    "#             for i in range(20):\n",
    "#                 actuals = actuals + statejson['results'][i]['actual']\n",
    "#                 statedict[item] = [actuals]\n",
    "#             print(f\"Processing record {record} | {item}\")\n",
    "#             record += 1\n",
    "            \n",
    "    # Exception if state data isn't found\n",
    "    except:\n",
    "        print(f\"Data not found for {item}. Skipping...\")\n",
    "\n",
    "print(\"----------Job complete!----------\")\n",
    "    "
   ]
  },
  {
   "cell_type": "code",
   "execution_count": null,
   "metadata": {},
   "outputs": [],
   "source": [
    "# Convert the dictionary into a dataframe\n",
    "statedf = pd.DataFrame.from_dict(statedict, orient='index')\n",
    "statedf"
   ]
  },
  {
   "cell_type": "code",
   "execution_count": null,
   "metadata": {},
   "outputs": [],
   "source": []
  }
 ],
 "metadata": {
  "kernelspec": {
   "display_name": "Python 3",
   "language": "python",
   "name": "python3"
  },
  "language_info": {
   "codemirror_mode": {
    "name": "ipython",
    "version": 3
   },
   "file_extension": ".py",
   "mimetype": "text/x-python",
   "name": "python",
   "nbconvert_exporter": "python",
   "pygments_lexer": "ipython3",
   "version": "3.8.3"
  }
 },
 "nbformat": 4,
 "nbformat_minor": 4
}
