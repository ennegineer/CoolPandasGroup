{
 "cells": [
  {
   "cell_type": "code",
   "execution_count": 1,
   "id": "7f7d95cd",
   "metadata": {},
   "outputs": [],
   "source": [
    "import json\n",
    "import requests\n",
    "import numpy as np\n",
    "import pandas as pd\n",
    "import matplotlib.pyplot as plt\n",
    "import requests\n",
    "from pprint import pprint\n",
    "from config import apikey"
   ]
  },
  {
   "cell_type": "code",
   "execution_count": 2,
   "id": "cdfad0ae",
   "metadata": {},
   "outputs": [
    {
     "name": "stdout",
     "output_type": "stream",
     "text": [
      "{'BEAAPI': {'Request': {'RequestParam': [{'ParameterName': 'USERID',\n",
      "                                          'ParameterValue': '27094E70-5BF7-4ECE-BC0A-C2A11FC94F94'},\n",
      "                                         {'ParameterName': 'METHOD',\n",
      "                                          'ParameterValue': 'GETDATASETLIST'}]},\n",
      "            'Results': {'Dataset': [{'DatasetDescription': 'Standard NIPA '\n",
      "                                                           'tables',\n",
      "                                     'DatasetName': 'NIPA'},\n",
      "                                    {'DatasetDescription': 'Standard NI '\n",
      "                                                           'underlying detail '\n",
      "                                                           'tables',\n",
      "                                     'DatasetName': 'NIUnderlyingDetail'},\n",
      "                                    {'DatasetDescription': 'Multinational '\n",
      "                                                           'Enterprises',\n",
      "                                     'DatasetName': 'MNE'},\n",
      "                                    {'DatasetDescription': 'Standard Fixed '\n",
      "                                                           'Assets tables',\n",
      "                                     'DatasetName': 'FixedAssets'},\n",
      "                                    {'DatasetDescription': 'International '\n",
      "                                                           'Transactions '\n",
      "                                                           'Accounts',\n",
      "                                     'DatasetName': 'ITA'},\n",
      "                                    {'DatasetDescription': 'International '\n",
      "                                                           'Investment '\n",
      "                                                           'Position',\n",
      "                                     'DatasetName': 'IIP'},\n",
      "                                    {'DatasetDescription': 'Input-Output Data',\n",
      "                                     'DatasetName': 'InputOutput'},\n",
      "                                    {'DatasetDescription': 'International '\n",
      "                                                           'Services Trade',\n",
      "                                     'DatasetName': 'IntlServTrade'},\n",
      "                                    {'DatasetDescription': 'GDP by Industry',\n",
      "                                     'DatasetName': 'GDPbyIndustry'},\n",
      "                                    {'DatasetDescription': 'Regional data sets',\n",
      "                                     'DatasetName': 'Regional'},\n",
      "                                    {'DatasetDescription': 'Underlying GDP by '\n",
      "                                                           'Industry',\n",
      "                                     'DatasetName': 'UnderlyingGDPbyIndustry'},\n",
      "                                    {'DatasetDescription': 'Metadata about '\n",
      "                                                           'other API datasets',\n",
      "                                     'DatasetName': 'APIDatasetMetaData'}]}}}\n"
     ]
    }
   ],
   "source": [
    "# API setup: # copy paste the url from webapi # set url link and stop at ...data\n",
    "# getdatafromurl by paste whole link and break out url + \"?&UserID\" available already at pasted url\n",
    "# + apikey from config\n",
    "# + the kind of data we wanna request\n",
    "url = \"https://apps.bea.gov/api/data\"\n",
    "\n",
    "#full from bea: https://apps.bea.gov/api/data?&UserID=Your-36Character-Key&method=GETDATASETLIST& | break from ? and & | + apikey + in the middle: turnout below: \n",
    "    \n",
    "getdatasetsURL = url + \"?&userID=\" + apikey + \"&method=GETDATASETLIST&\"\n",
    "getdatasetsURL\n",
    "getdatasets = requests.get(getdatasetsURL)\n",
    "datasets_json = getdatasets.json()\n",
    "pprint(datasets_json)"
   ]
  },
  {
   "cell_type": "code",
   "execution_count": 12,
   "id": "96c98d02",
   "metadata": {},
   "outputs": [
    {
     "name": "stdout",
     "output_type": "stream",
     "text": [
      "{'BEAAPI': {'Request': {'RequestParam': [{'ParameterName': 'USERID',\n",
      "                                          'ParameterValue': '27094E70-5BF7-4ECE-BC0A-C2A11FC94F94'},\n",
      "                                         {'ParameterName': 'METHOD',\n",
      "                                          'ParameterValue': 'GETDATA'},\n",
      "                                         {'ParameterName': 'TARGETPARAMETER',\n",
      "                                          'ParameterValue': 'YEAR2020...[MODIFIED '\n",
      "                                                            'TO PREVENT '\n",
      "                                                            'CROSS-SITE '\n",
      "                                                            'SCRIPTING]'},\n",
      "                                         {'ParameterName': 'DATASETNAME',\n",
      "                                          'ParameterValue': 'GDPBYINDUSTRY'}]},\n",
      "            'Results': {'Error': {'APIErrorCode': '1',\n",
      "                                  'APIErrorDescription': 'This API request is '\n",
      "                                                         'a possible '\n",
      "                                                         'cross-site scripting '\n",
      "                                                         'attempt. Please '\n",
      "                                                         'check your API '\n",
      "                                                         'request.'}}}}\n"
     ]
    }
   ],
   "source": [
    "dataset = \"GDPbyIndustry\"\n",
    "\n",
    "queryURL = url + \"?&userID=\" + apikey + '&method=GetData&datasetname=GDPbyIndustry&TargetParameter=\"Year\"=\"2020\"'\n",
    "\n",
    "query = requests.get(queryURL)\n",
    "response_json = query.json()\n",
    "\n",
    "# pprint(response_json['BEAAPI']['Results']['Dataset'][8]['DatasetName'])\n",
    "pprint(response_json)"
   ]
  },
  {
   "cell_type": "code",
   "execution_count": null,
   "id": "98e385c8",
   "metadata": {},
   "outputs": [],
   "source": []
  }
 ],
 "metadata": {
  "kernelspec": {
   "display_name": "Python 3 (ipykernel)",
   "language": "python",
   "name": "python3"
  },
  "language_info": {
   "codemirror_mode": {
    "name": "ipython",
    "version": 3
   },
   "file_extension": ".py",
   "mimetype": "text/x-python",
   "name": "python",
   "nbconvert_exporter": "python",
   "pygments_lexer": "ipython3",
   "version": "3.8.9"
  }
 },
 "nbformat": 4,
 "nbformat_minor": 5
}
