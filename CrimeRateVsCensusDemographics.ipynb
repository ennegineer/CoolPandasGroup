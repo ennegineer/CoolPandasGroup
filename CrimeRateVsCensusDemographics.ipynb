{
 "cells": [
  {
   "cell_type": "code",
   "execution_count": 1,
   "metadata": {},
   "outputs": [],
   "source": [
    "# Dependencies\n",
    "import numpy as np\n",
    "import pandas as pd\n",
    "import matplotlib.pyplot as plt\n",
    "import scipy.stats as st"
   ]
  },
  {
   "cell_type": "code",
   "execution_count": 10,
   "metadata": {},
   "outputs": [
    {
     "data": {
      "text/html": [
       "<div>\n",
       "<style scoped>\n",
       "    .dataframe tbody tr th:only-of-type {\n",
       "        vertical-align: middle;\n",
       "    }\n",
       "\n",
       "    .dataframe tbody tr th {\n",
       "        vertical-align: top;\n",
       "    }\n",
       "\n",
       "    .dataframe thead th {\n",
       "        text-align: right;\n",
       "    }\n",
       "</style>\n",
       "<table border=\"1\" class=\"dataframe\">\n",
       "  <thead>\n",
       "    <tr style=\"text-align: right;\">\n",
       "      <th></th>\n",
       "      <th>State Name</th>\n",
       "      <th>Population</th>\n",
       "      <th>Median Age</th>\n",
       "      <th>Household Income</th>\n",
       "      <th>Per Capita Income</th>\n",
       "      <th>Poverty Count</th>\n",
       "      <th>Poverty Rate</th>\n",
       "      <th>Unemployment Rate</th>\n",
       "      <th>Violent Crime Count</th>\n",
       "      <th>Crime Rate</th>\n",
       "    </tr>\n",
       "  </thead>\n",
       "  <tbody>\n",
       "    <tr>\n",
       "      <th>0</th>\n",
       "      <td>Alabama</td>\n",
       "      <td>4876250.0</td>\n",
       "      <td>39.0</td>\n",
       "      <td>50536.0</td>\n",
       "      <td>27928.0</td>\n",
       "      <td>795989.0</td>\n",
       "      <td>16.323794</td>\n",
       "      <td>2.708946</td>\n",
       "      <td>9504.0</td>\n",
       "      <td>0.194904</td>\n",
       "    </tr>\n",
       "    <tr>\n",
       "      <th>1</th>\n",
       "      <td>Alaska</td>\n",
       "      <td>737068.0</td>\n",
       "      <td>34.3</td>\n",
       "      <td>77640.0</td>\n",
       "      <td>36787.0</td>\n",
       "      <td>76933.0</td>\n",
       "      <td>10.437707</td>\n",
       "      <td>3.637114</td>\n",
       "      <td>6343.0</td>\n",
       "      <td>0.860572</td>\n",
       "    </tr>\n",
       "    <tr>\n",
       "      <th>2</th>\n",
       "      <td>Arizona</td>\n",
       "      <td>7050299.0</td>\n",
       "      <td>37.7</td>\n",
       "      <td>58945.0</td>\n",
       "      <td>30694.0</td>\n",
       "      <td>1043764.0</td>\n",
       "      <td>14.804535</td>\n",
       "      <td>2.778676</td>\n",
       "      <td>31198.0</td>\n",
       "      <td>0.442506</td>\n",
       "    </tr>\n",
       "    <tr>\n",
       "      <th>3</th>\n",
       "      <td>Arkansas</td>\n",
       "      <td>2999370.0</td>\n",
       "      <td>38.1</td>\n",
       "      <td>47597.0</td>\n",
       "      <td>26577.0</td>\n",
       "      <td>496260.0</td>\n",
       "      <td>16.545475</td>\n",
       "      <td>2.349860</td>\n",
       "      <td>17096.0</td>\n",
       "      <td>0.569986</td>\n",
       "    </tr>\n",
       "    <tr>\n",
       "      <th>4</th>\n",
       "      <td>California</td>\n",
       "      <td>39283497.0</td>\n",
       "      <td>36.5</td>\n",
       "      <td>75235.0</td>\n",
       "      <td>36955.0</td>\n",
       "      <td>5149742.0</td>\n",
       "      <td>13.109174</td>\n",
       "      <td>3.052765</td>\n",
       "      <td>173298.0</td>\n",
       "      <td>0.441147</td>\n",
       "    </tr>\n",
       "  </tbody>\n",
       "</table>\n",
       "</div>"
      ],
      "text/plain": [
       "   State Name  Population  Median Age  Household Income  Per Capita Income  \\\n",
       "0     Alabama   4876250.0        39.0           50536.0            27928.0   \n",
       "1      Alaska    737068.0        34.3           77640.0            36787.0   \n",
       "2     Arizona   7050299.0        37.7           58945.0            30694.0   \n",
       "3    Arkansas   2999370.0        38.1           47597.0            26577.0   \n",
       "4  California  39283497.0        36.5           75235.0            36955.0   \n",
       "\n",
       "   Poverty Count  Poverty Rate  Unemployment Rate  Violent Crime Count  \\\n",
       "0       795989.0     16.323794           2.708946               9504.0   \n",
       "1        76933.0     10.437707           3.637114               6343.0   \n",
       "2      1043764.0     14.804535           2.778676              31198.0   \n",
       "3       496260.0     16.545475           2.349860              17096.0   \n",
       "4      5149742.0     13.109174           3.052765             173298.0   \n",
       "\n",
       "   Crime Rate  \n",
       "0    0.194904  \n",
       "1    0.860572  \n",
       "2    0.442506  \n",
       "3    0.569986  \n",
       "4    0.441147  "
      ]
     },
     "execution_count": 10,
     "metadata": {},
     "output_type": "execute_result"
    }
   ],
   "source": [
    "# Read CSV created from APIs\n",
    "# Census data combined with crime data\n",
    "datafile = \"Data/censuscrimedata.csv\"\n",
    "censusCrimeData = pd.read_csv(datafile)\n",
    "del censusCrimeData['State']\n",
    "del censusCrimeData['Unnamed: 0']\n",
    "censusCrimeData.head()"
   ]
  },
  {
   "cell_type": "code",
   "execution_count": 11,
   "metadata": {},
   "outputs": [
    {
     "data": {
      "text/plain": [
       "39283497.0"
      ]
     },
     "execution_count": 11,
     "metadata": {},
     "output_type": "execute_result"
    }
   ],
   "source": [
    "censusCrimeData['Population'].max()"
   ]
  },
  {
   "cell_type": "code",
   "execution_count": 16,
   "metadata": {},
   "outputs": [
    {
     "data": {
      "image/png": "[encoded data removed]",
      "text/plain": [
       "<Figure size 432x288 with 1 Axes>"
      ]
     },
     "metadata": {
      "needs_background": "light"
     },
     "output_type": "display_data"
    }
   ],
   "source": [
    "# Show Crime Rate as Crime Count vs. Population\n",
    "plt.scatter(censusCrimeData['Population'],censusCrimeData['Violent Crime Count'])\n",
    "# Add the linear regression equation and line to plot\n",
    "plt.title(\"Crime Rate: Population vs. Crime Count\")\n",
    "x_values = censusCrimeData['Population']\n",
    "y_values = censusCrimeData['Violent Crime Count']\n",
    "(slope, intercept, rvalue, pvalue, stderr) = st.linregress(x_values, y_values)\n",
    "regress_values = x_values * slope + intercept\n",
    "line_eq = \"y = \" + str(round(slope,2)) + \"x + \" + str(round(intercept,2))\n",
    "plt.scatter(x_values,y_values)\n",
    "plt.plot(x_values,regress_values,\"r-\")\n",
    "plt.annotate(line_eq,(20000000,10000),fontsize=15,color=\"red\")\n",
    "plt.xlabel('Population (100,000)')\n",
    "plt.ylabel('Violent Crime Count')\n",
    "plt.grid()\n",
    "plt.savefig('Output/crimerate-PopVsCrimeCount.png')\n",
    "# x = [0, 5, 10, 15, 20, 25, 30, 35, 40000000]\n",
    "# default_x_ticks = range(len(x))\n",
    "# plt.xticks(default_x_ticks, x)\n",
    "plt.show()"
   ]
  },
  {
   "cell_type": "code",
   "execution_count": null,
   "metadata": {},
   "outputs": [],
   "source": [
    "plt.bar(stateAbbs, statedf[0], color='r', alpha=0.5, align=\"center\")\n",
    "plt.figure(figsize=(4,100))\n",
    "plt.show()"
   ]
  },
  {
   "cell_type": "code",
   "execution_count": 6,
   "metadata": {},
   "outputs": [
    {
     "data": {
      "image/png": "[encoded data removed]",
      "text/plain": [
       "<Figure size 432x288 with 1 Axes>"
      ]
     },
     "metadata": {
      "needs_background": "light"
     },
     "output_type": "display_data"
    }
   ],
   "source": [
    "plt.scatter(censusCrimeData['Household Income'],censusCrimeData['Crime Rate'])\n",
    "\n",
    "# Add the linear regression equation and line to plot\n",
    "x_values = censusCrimeData['Household Income']\n",
    "y_values = censusCrimeData['Crime Rate']\n",
    "(slope, intercept, rvalue, pvalue, stderr) = st.linregress(x_values, y_values)\n",
    "regress_values = x_values * slope + intercept\n",
    "line_eq = \"y = \" + str(round(slope,2)) + \"x + \" + str(round(intercept,2))\n",
    "plt.scatter(x_values,y_values)\n",
    "plt.plot(x_values,regress_values,\"r-\")\n",
    "# plt.annotate(line_eq,(45000,6000),fontsize=15,color=\"red\")\n",
    "plt.title(\"Household Income vs. Crime Rate\")\n",
    "plt.xlabel('Household Income')\n",
    "plt.ylabel('Violent Crime Rate')\n",
    "plt.show()"
   ]
  },
  {
   "cell_type": "code",
   "execution_count": 7,
   "metadata": {},
   "outputs": [
    {
     "data": {
      "image/png": "[encoded data removed]",
      "text/plain": [
       "<Figure size 432x288 with 1 Axes>"
      ]
     },
     "metadata": {
      "needs_background": "light"
     },
     "output_type": "display_data"
    }
   ],
   "source": [
    "plt.scatter(censusCrimeData['Per Capita Income'],censusCrimeData['Crime Rate'])\n",
    "\n",
    "# Add the linear regression equation and line to plot\n",
    "x_values = censusCrimeData['Per Capita Income']\n",
    "y_values = censusCrimeData['Crime Rate']\n",
    "(slope, intercept, rvalue, pvalue, stderr) = st.linregress(x_values, y_values)\n",
    "regress_values = x_values * slope + intercept\n",
    "line_eq = \"y = \" + str(round(slope,2)) + \"x + \" + str(round(intercept,2))\n",
    "plt.scatter(x_values,y_values)\n",
    "plt.plot(x_values,regress_values,\"r-\")\n",
    "# plt.annotate(line_eq,(450,60),fontsize=15,color=\"red\")\n",
    "plt.title(\"Per Capita Income vs. Crime Rate\")\n",
    "plt.xlabel('Per Capita Income')\n",
    "plt.ylabel('Crime Rate')\n",
    "plt.show()"
   ]
  },
  {
   "cell_type": "code",
   "execution_count": null,
   "metadata": {},
   "outputs": [],
   "source": []
  }
 ],
 "metadata": {
  "kernelspec": {
   "display_name": "Python 3",
   "language": "python",
   "name": "python3"
  },
  "language_info": {
   "codemirror_mode": {
    "name": "ipython",
    "version": 3
   },
   "file_extension": ".py",
   "mimetype": "text/x-python",
   "name": "python",
   "nbconvert_exporter": "python",
   "pygments_lexer": "ipython3",
   "version": "3.8.3"
  }
 },
 "nbformat": 4,
 "nbformat_minor": 4
}
