{
 "cells": [
  {
   "cell_type": "code",
   "execution_count": null,
   "metadata": {},
   "outputs": [],
   "source": [
    "# Dependencies\n",
    "import numpy as np\n",
    "import json\n",
    "import pandas as pd\n",
    "import matplotlib.pyplot as plt\n",
    "import requests\n",
    "from pprint import pprint\n",
    "from config import apikey"
   ]
  },
  {
   "cell_type": "code",
   "execution_count": null,
   "metadata": {},
   "outputs": [],
   "source": [
    "# Read CSVs\n",
    "file1 = \"BTCDATA/chinese_province_share.csv\"\n",
    "file2 = \"BTCDATA/evolution_of_country_share.csv\"\n",
    "file3 = \"BTCDATA/evolution_of_hashrate.csv\"\n",
    "\n",
    "chinese_prov_share = pd.read_csv(file1)\n",
    "evol_country_share = pd.read_csv(file2)\n",
    "evol_hashrate = pd.read_csv(file3)\n",
    "\n",
    "chinese_prov_share.head()\n"
   ]
  },
  {
   "cell_type": "code",
   "execution_count": null,
   "metadata": {},
   "outputs": [],
   "source": [
    "# API setup\n",
    "url = \"https://apps.bea.gov/api/data\"\n",
    "\n",
    "getdatasetsURL = url + \"?&userID=\" + apikey + \"&method=GETDATASETLIST&\"\n",
    "\n",
    "getdatasets = requests.get(getdatasetsURL)\n",
    "datasets_json = getdatasets.json()\n",
    "pprint(datasets_json)"
   ]
  },
  {
   "cell_type": "code",
   "execution_count": null,
   "metadata": {},
   "outputs": [],
   "source": [
    "dataset = \"GDPbyIndustry\"\n",
    "\n",
    "queryURL = url + \"?&userID=\" + apikey + '&method=GetData&datasetname=GDPbyIndustry&TargetParameter=\"Year\"=\"2020\"'\n",
    "\n",
    "query = requests.get(queryURL)\n",
    "response_json = query.json()\n",
    "\n",
    "# pprint(response_json['BEAAPI']['Results']['Dataset'][8]['DatasetName'])\n",
    "pprint(response_json)"
   ]
  },
  {
   "cell_type": "code",
   "execution_count": null,
   "metadata": {},
   "outputs": [],
   "source": [
    "print(response_json)"
   ]
  },
  {
   "cell_type": "code",
   "execution_count": null,
   "metadata": {},
   "outputs": [],
   "source": []
  }
 ],
 "metadata": {
  "kernelspec": {
   "display_name": "Python 3",
   "language": "python",
   "name": "python3"
  },
  "language_info": {
   "codemirror_mode": {
    "name": "ipython",
    "version": 3
   },
   "file_extension": ".py",
   "mimetype": "text/x-python",
   "name": "python",
   "nbconvert_exporter": "python",
   "pygments_lexer": "ipython3",
   "version": "3.8.3"
  }
 },
 "nbformat": 4,
 "nbformat_minor": 4
}
