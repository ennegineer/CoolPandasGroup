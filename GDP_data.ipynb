{
 "cells": [
  {
   "cell_type": "code",
   "execution_count": 2,
   "metadata": {},
   "outputs": [],
   "source": [
    "# Dependencies\n",
    "import numpy as np\n",
    "import json\n",
    "import pandas as pd\n",
    "import matplotlib.pyplot as plt\n",
    "import requests\n",
    "from pprint import pprint\n",
    "from config import apikey"
   ]
  },
  {
   "cell_type": "code",
   "execution_count": 1,
   "metadata": {},
   "outputs": [],
   "source": [
    "# Read CSVs\n",
    "file1 = \"BTCDATA/chinese_province_share.csv\"\n",
    "file2 = \"BTCDATA/evolution_of_country_share.csv\"\n",
    "file3 = \"BTCDATA/evolution_of_hashrate.csv\"\n",
    "\n",
    "chinese_pr\n",
    "\n"
   ]
  },
  {
   "cell_type": "code",
   "execution_count": 3,
   "metadata": {},
   "outputs": [
    {
     "name": "stdout",
     "output_type": "stream",
     "text": [
      "{'BEAAPI': {'Request': {'RequestParam': [{'ParameterName': 'USERID',\n",
      "                                          'ParameterValue': '42A5151E-FDD9-4584-A91F-067AFAA155DD'},\n",
      "                                         {'ParameterName': 'METHOD',\n",
      "                                          'ParameterValue': 'GETDATASETLIST'}]},\n",
      "            'Results': {'Dataset': [{'DatasetDescription': 'Standard NIPA '\n",
      "                                                           'tables',\n",
      "                                     'DatasetName': 'NIPA'},\n",
      "                                    {'DatasetDescription': 'Standard NI '\n",
      "                                                           'underlying detail '\n",
      "                                                           'tables',\n",
      "                                     'DatasetName': 'NIUnderlyingDetail'},\n",
      "                                    {'DatasetDescription': 'Multinational '\n",
      "                                                           'Enterprises',\n",
      "                                     'DatasetName': 'MNE'},\n",
      "                                    {'DatasetDescription': 'Standard Fixed '\n",
      "                                                           'Assets tables',\n",
      "                                     'DatasetName': 'FixedAssets'},\n",
      "                                    {'DatasetDescription': 'International '\n",
      "                                                           'Transactions '\n",
      "                                                           'Accounts',\n",
      "                                     'DatasetName': 'ITA'},\n",
      "                                    {'DatasetDescription': 'International '\n",
      "                                                           'Investment '\n",
      "                                                           'Position',\n",
      "                                     'DatasetName': 'IIP'},\n",
      "                                    {'DatasetDescription': 'Input-Output Data',\n",
      "                                     'DatasetName': 'InputOutput'},\n",
      "                                    {'DatasetDescription': 'International '\n",
      "                                                           'Services Trade',\n",
      "                                     'DatasetName': 'IntlServTrade'},\n",
      "                                    {'DatasetDescription': 'GDP by Industry',\n",
      "                                     'DatasetName': 'GDPbyIndustry'},\n",
      "                                    {'DatasetDescription': 'Regional data sets',\n",
      "                                     'DatasetName': 'Regional'},\n",
      "                                    {'DatasetDescription': 'Underlying GDP by '\n",
      "                                                           'Industry',\n",
      "                                     'DatasetName': 'UnderlyingGDPbyIndustry'},\n",
      "                                    {'DatasetDescription': 'Metadata about '\n",
      "                                                           'other API datasets',\n",
      "                                     'DatasetName': 'APIDatasetMetaData'}]}}}\n"
     ]
    }
   ],
   "source": [
    "# API setup\n",
    "url = \"https://apps.bea.gov/api/data\"\n",
    "\n",
    "getdatasetsURL = url + \"?&userID=\" + apikey + \"&method=GETDATASETLIST&\"\n",
    "\n",
    "getdatasets = requests.get(getdatasetsURL)\n",
    "datasets_json = getdatasets.json()\n",
    "pprint(datasets_json)"
   ]
  },
  {
   "cell_type": "code",
   "execution_count": null,
   "metadata": {},
   "outputs": [],
   "source": [
    "dataset = \"GDPbyIndustry\"\n",
    "\n",
    "queryURL = url + \"?&userID=\" + apikey + '&method=GetData&datasetname=GDPbyIndustry&TargetParameter=\"Year\"=\"2020\"'\n",
    "\n",
    "query = requests.get(queryURL)\n",
    "response_json = query.json()\n",
    "\n",
    "# pprint(response_json['BEAAPI']['Results']['Dataset'][8]['DatasetName'])\n",
    "pprint(response_json)"
   ]
  },
  {
   "cell_type": "code",
   "execution_count": null,
   "metadata": {},
   "outputs": [],
   "source": [
    "print(response_json)"
   ]
  },
  {
   "cell_type": "code",
   "execution_count": null,
   "metadata": {},
   "outputs": [],
   "source": []
  }
 ],
 "metadata": {
  "kernelspec": {
   "display_name": "Python 3",
   "language": "python",
   "name": "python3"
  },
  "language_info": {
   "codemirror_mode": {
    "name": "ipython",
    "version": 3
   },
   "file_extension": ".py",
   "mimetype": "text/x-python",
   "name": "python",
   "nbconvert_exporter": "python",
   "pygments_lexer": "ipython3",
   "version": "3.8.3"
  }
 },
 "nbformat": 4,
 "nbformat_minor": 4
}
