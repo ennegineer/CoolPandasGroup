{
 "cells": [
  {
   "cell_type": "code",
   "execution_count": 7,
   "metadata": {},
   "outputs": [],
   "source": [
    "# Dependencies\n",
    "import numpy as np\n",
    "import json\n",
    "import pandas as pd\n",
    "import matplotlib.pyplot as plt\n",
    "import requests\n",
    "from pprint import pprint\n",
    "from config import apikey"
   ]
  },
  {
   "cell_type": "code",
   "execution_count": 11,
   "metadata": {},
   "outputs": [
    {
     "name": "stdout",
     "output_type": "stream",
     "text": [
      "{'BEAAPI': {'Request': {'RequestParam': [{'ParameterName': 'USERID',\n",
      "                                          'ParameterValue': '42A5151E-FDD9-4584-A91F-067AFAA155DD'},\n",
      "                                         {'ParameterName': 'UNDERLYINGGDPBYINDUSTRY',\n",
      "                                          'ParameterValue': ''}]},\n",
      "            'Results': {'Error': {'APIErrorCode': '20',\n",
      "                                  'APIErrorDescription': 'The Dataset '\n",
      "                                                         'requested does not '\n",
      "                                                         'exist.'}}}}\n"
     ]
    }
   ],
   "source": [
    "# API setup\n",
    "url = \"https://apps.bea.gov/api/data\"\n",
    "dataset = \"GDPbyIndustry\"\n",
    "\n",
    "getdatasetsURL = url + \"?&userID=\" + apikey + \"&method=GETDATASETLIST&\"\n",
    "queryURL = url + \"?&userID=\" + apikey + \"&UnderlyingGDPbyIndustry\"\n",
    "\n",
    "\n",
    "response = requests.get(queryURL)\n",
    "response_json = response.json()\n",
    "pprint(response_json)\n",
    "\n"
   ]
  },
  {
   "cell_type": "code",
   "execution_count": 10,
   "metadata": {},
   "outputs": [
    {
     "name": "stdout",
     "output_type": "stream",
     "text": [
      "{'BEAAPI': {'Request': {'RequestParam': [{'ParameterName': 'USERID', 'ParameterValue': '42A5151E-FDD9-4584-A91F-067AFAA155DD'}, {'ParameterName': 'METHOD', 'ParameterValue': 'GETDATASETLIST'}, {'ParameterName': 'GDPBYINDUSTRY', 'ParameterValue': ''}]}, 'Results': {'Dataset': [{'DatasetName': 'NIPA', 'DatasetDescription': 'Standard NIPA tables'}, {'DatasetName': 'NIUnderlyingDetail', 'DatasetDescription': 'Standard NI underlying detail tables'}, {'DatasetName': 'MNE', 'DatasetDescription': 'Multinational Enterprises'}, {'DatasetName': 'FixedAssets', 'DatasetDescription': 'Standard Fixed Assets tables'}, {'DatasetName': 'ITA', 'DatasetDescription': 'International Transactions Accounts'}, {'DatasetName': 'IIP', 'DatasetDescription': 'International Investment Position'}, {'DatasetName': 'InputOutput', 'DatasetDescription': 'Input-Output Data'}, {'DatasetName': 'IntlServTrade', 'DatasetDescription': 'International Services Trade'}, {'DatasetName': 'GDPbyIndustry', 'DatasetDescription': 'GDP by Industry'}, {'DatasetName': 'Regional', 'DatasetDescription': 'Regional data sets'}, {'DatasetName': 'UnderlyingGDPbyIndustry', 'DatasetDescription': 'Underlying GDP by Industry'}, {'DatasetName': 'APIDatasetMetaData', 'DatasetDescription': 'Metadata about other API datasets'}]}}}\n"
     ]
    }
   ],
   "source": [
    "print(response_json)"
   ]
  },
  {
   "cell_type": "code",
   "execution_count": null,
   "metadata": {},
   "outputs": [],
   "source": []
  }
 ],
 "metadata": {
  "kernelspec": {
   "display_name": "Python 3",
   "language": "python",
   "name": "python3"
  },
  "language_info": {
   "codemirror_mode": {
    "name": "ipython",
    "version": 3
   },
   "file_extension": ".py",
   "mimetype": "text/x-python",
   "name": "python",
   "nbconvert_exporter": "python",
   "pygments_lexer": "ipython3",
   "version": "3.8.3"
  }
 },
 "nbformat": 4,
 "nbformat_minor": 4
}
